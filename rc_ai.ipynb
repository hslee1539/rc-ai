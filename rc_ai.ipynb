{
  "nbformat": 4,
  "nbformat_minor": 0,
  "metadata": {
    "colab": {
      "name": "rc-ai.ipynb",
      "provenance": [],
      "collapsed_sections": [],
      "authorship_tag": "ABX9TyOeW/+LF7zu3GXSC4YEksT1",
      "include_colab_link": true
    },
    "kernelspec": {
      "name": "python3",
      "display_name": "Python 3"
    },
    "language_info": {
      "name": "python"
    },
    "accelerator": "GPU"
  },
  "cells": [
    {
      "cell_type": "markdown",
      "metadata": {
        "id": "view-in-github",
        "colab_type": "text"
      },
      "source": [
        "<a href=\"https://colab.research.google.com/github/hslee1539/rc-ai/blob/master/rc_ai.ipynb\" target=\"_parent\"><img src=\"https://colab.research.google.com/assets/colab-badge.svg\" alt=\"Open In Colab\"/></a>"
      ]
    },
    {
      "cell_type": "markdown",
      "metadata": {
        "id": "unZzVTcfJMnG"
      },
      "source": [
        "# rc ai\n",
        "\n"
      ]
    },
    {
      "cell_type": "code",
      "metadata": {
        "colab": {
          "base_uri": "https://localhost:8080/"
        },
        "id": "itv_pg7iZ0Je",
        "outputId": "fa7b2b06-9bcb-4702-b0b6-ce8bdcea2c96"
      },
      "source": [
        "# 데이터 및 로딩\n",
        "!git clone https://github.com/hslee1539/rc-ai"
      ],
      "execution_count": 3,
      "outputs": [
        {
          "output_type": "stream",
          "text": [
            "fatal: destination path 'rc-ai' already exists and is not an empty directory.\n"
          ],
          "name": "stdout"
        }
      ]
    },
    {
      "cell_type": "markdown",
      "metadata": {
        "id": "KmILY0jnR5a9"
      },
      "source": [
        "레파지토리 패스 추가"
      ]
    },
    {
      "cell_type": "code",
      "metadata": {
        "id": "kgukIdL9aVj2"
      },
      "source": [
        "import sys\n",
        "\n",
        "sys.path.append(\"./rc-ai/src\")"
      ],
      "execution_count": 4,
      "outputs": []
    },
    {
      "cell_type": "markdown",
      "metadata": {
        "id": "MGtLX62hSiYG"
      },
      "source": [
        "데이터 로딩 및 전처리"
      ]
    },
    {
      "cell_type": "code",
      "metadata": {
        "colab": {
          "base_uri": "https://localhost:8080/"
        },
        "id": "tiaP4RKCdHTM",
        "outputId": "da1b3ca4-c4cf-486e-ef38-327a21f39c31"
      },
      "source": [
        "import data\n",
        "import numpy as np\n",
        "\n",
        "data_model = data.DataModel(\"./rc-ai/data/x\", \"./rc-ai/data/y\", (100, 100, 3), (100, 100, 3), (25, 25, 2))\n",
        "result = data.load(data_model)\n",
        "\n",
        "x_train = np.array(result[0], dtype=data_model.dtype) / 255\n",
        "y_train = (np.array(result[1], dtype=data_model.dtype) / 255)\n",
        "x_eval = np.array(result[2], dtype=data_model.dtype) / 255\n",
        "y_eval = (np.array(result[3], dtype=data_model.dtype) / 255)\n",
        "x_test = np.array(result[4], dtype=data_model.dtype) / 255\n",
        "y_test = (np.array(result[5], dtype=data_model.dtype) / 255)"
      ],
      "execution_count": 5,
      "outputs": [
        {
          "output_type": "stream",
          "text": [
            "find data x:20210227_134401.jpg, y:20210227_134401.txt\n",
            "find data x:20210227_134123.jpg, y:20210227_134123.txt\n",
            "find data x:20210227_134332.jpg, y:20210227_134332.txt\n",
            "find data x:20210227_135051.jpg, y:20210227_135051.txt\n",
            "find data x:20210227_135043.jpg, y:20210227_135043.txt\n",
            "find data x:20210227_134241.jpg, y:20210227_134241.txt\n",
            "find data x:20210227_134246.jpg, y:20210227_134246.txt\n",
            "find data x:20210227_134320.jpg, y:20210227_134320.txt\n",
            "find data x:20210227_134126.jpg, y:20210227_134126.txt\n",
            "find data x:20210227_134524.jpg, y:20210227_134524.txt\n",
            "find data x:20210227_134317.jpg, y:20210227_134317.txt\n",
            "find data x:20210227_134327.jpg, y:20210227_134327.txt\n",
            "find data x:20210227_134158.jpg, y:20210227_134158.txt\n",
            "find data x:20210227_134243.jpg, y:20210227_134243.txt\n",
            "find data x:20210227_134226.jpg, y:20210227_134226.txt\n",
            "find data x:20210227_134330.jpg, y:20210227_134330.txt\n",
            "find data x:20210227_134323.jpg, y:20210227_134323.txt\n",
            "find data x:20210227_134238.jpg, y:20210227_134238.txt\n",
            "find data x:20210227_135041.jpg, y:20210227_135041.txt\n",
            "find data x:20210227_134334.jpg, y:20210227_134334.txt\n",
            "find data x:20210227_134418.jpg, y:20210227_134418.txt\n",
            "find data x:20210227_134522.jpg, y:20210227_134522.txt\n",
            "find data x:20210227_135049.jpg, y:20210227_135049.txt\n",
            "find data x:20210227_134340.jpg, y:20210227_134340.txt\n",
            "find data x:20210227_134433.jpg, y:20210227_134433.txt\n",
            "find data x:20210227_134148.jpg, y:20210227_134148.txt\n",
            "find data x:20210227_134128.jpg, y:20210227_134128.txt\n",
            "find data x:20210227_134504.jpg, y:20210227_134504.txt\n",
            "find data x:20210227_134221.jpg, y:20210227_134221.txt\n",
            "find data x:20210227_134131.jpg, y:20210227_134131.txt\n",
            "find data x:20210227_134359.jpg, y:20210227_134359.txt\n",
            "find data x:20210227_134501.jpg, y:20210227_134501.txt\n",
            "find data x:20210227_135047.jpg, y:20210227_135047.txt\n",
            "find data x:20210227_134154.jpg, y:20210227_134154.txt\n",
            "find data x:20210227_134532.jpg, y:20210227_134532.txt\n",
            "find data x:20210227_134438.jpg, y:20210227_134438.txt\n",
            "find data x:20210227_134201.jpg, y:20210227_134201.txt\n"
          ],
          "name": "stdout"
        }
      ]
    },
    {
      "cell_type": "markdown",
      "metadata": {
        "id": "XWqvc8XzSpXA"
      },
      "source": [
        "네트워크 생성"
      ]
    },
    {
      "cell_type": "code",
      "metadata": {
        "colab": {
          "base_uri": "https://localhost:8080/"
        },
        "id": "jLlSNg2jQ6np",
        "outputId": "4a31b4c8-99dd-42cb-8d07-0cbab99a23c5"
      },
      "source": [
        "import network\n",
        "import matplotlib.pyplot as plt\n",
        "# 13320 * 256\n",
        "\n",
        "net = network.load()\n",
        "\n",
        "net.summary()"
      ],
      "execution_count": 29,
      "outputs": [
        {
          "output_type": "stream",
          "text": [
            "Model: \"sequential_3\"\n",
            "_________________________________________________________________\n",
            "Layer (type)                 Output Shape              Param #   \n",
            "=================================================================\n",
            "conv2d_15 (Conv2D)           (1, 98, 98, 5)            140       \n",
            "_________________________________________________________________\n",
            "batch_normalization_12 (Batc (1, 98, 98, 5)            20        \n",
            "_________________________________________________________________\n",
            "conv2d_16 (Conv2D)           (1, 47, 47, 7)            882       \n",
            "_________________________________________________________________\n",
            "batch_normalization_13 (Batc (1, 47, 47, 7)            28        \n",
            "_________________________________________________________________\n",
            "conv2d_17 (Conv2D)           (1, 41, 41, 13)           4472      \n",
            "_________________________________________________________________\n",
            "batch_normalization_14 (Batc (1, 41, 41, 13)           52        \n",
            "_________________________________________________________________\n",
            "conv2d_18 (Conv2D)           (1, 29, 29, 17)           37366     \n",
            "_________________________________________________________________\n",
            "batch_normalization_15 (Batc (1, 29, 29, 17)           68        \n",
            "_________________________________________________________________\n",
            "dropout_3 (Dropout)          (1, 29, 29, 17)           0         \n",
            "_________________________________________________________________\n",
            "conv2d_19 (Conv2D)           (1, 25, 25, 2)            852       \n",
            "=================================================================\n",
            "Total params: 43,880\n",
            "Trainable params: 43,796\n",
            "Non-trainable params: 84\n",
            "_________________________________________________________________\n"
          ],
          "name": "stdout"
        }
      ]
    },
    {
      "cell_type": "markdown",
      "metadata": {
        "id": "nAfmJsRiSvh4"
      },
      "source": [
        "데이터 학습\n",
        "\n",
        "gpu가 훠얼씬 더 빠르니 tpu는 버릴"
      ]
    },
    {
      "cell_type": "code",
      "metadata": {
        "colab": {
          "base_uri": "https://localhost:8080/"
        },
        "id": "_T2ouLb4a3a2",
        "outputId": "67d56eee-071a-4e20-98b8-354ffcc8128c"
      },
      "source": [
        "pre_trained_y = net.predict(x_test, 300)\n",
        "\n",
        "net.fit(x_train, y_train, epochs=45, batch_size=100, validation_data=(x_eval, y_eval))\n",
        "\n",
        "trained_y = net.predict(x_test, 300)\n",
        "\n",
        "real_y = y_test\n",
        "\n",
        "pre_trained_y = np.insert(pre_trained_y, 2, 0, -1)\n",
        "\n",
        "trained_y = np.insert(trained_y, 2, 0, -1)\n",
        "\n",
        "real_y = np.insert(real_y, 2, 0, -1)\n"
      ],
      "execution_count": 30,
      "outputs": [
        {
          "output_type": "stream",
          "text": [
            "Epoch 1/45\n",
            "93/93 [==============================] - 6s 54ms/step - loss: 0.1433 - val_loss: 0.0144\n",
            "Epoch 2/45\n",
            "93/93 [==============================] - 5s 52ms/step - loss: 0.0161 - val_loss: 0.0144\n",
            "Epoch 3/45\n",
            "93/93 [==============================] - 5s 52ms/step - loss: 0.0161 - val_loss: 0.0144\n",
            "Epoch 4/45\n",
            "93/93 [==============================] - 5s 52ms/step - loss: 0.0160 - val_loss: 0.0144\n",
            "Epoch 5/45\n",
            "93/93 [==============================] - 5s 52ms/step - loss: 0.0161 - val_loss: 0.0144\n",
            "Epoch 6/45\n",
            "93/93 [==============================] - 5s 52ms/step - loss: 0.0160 - val_loss: 0.0144\n",
            "Epoch 7/45\n",
            "93/93 [==============================] - 5s 52ms/step - loss: 0.0159 - val_loss: 0.0144\n",
            "Epoch 8/45\n",
            "93/93 [==============================] - 5s 52ms/step - loss: 0.0160 - val_loss: 0.0144\n",
            "Epoch 9/45\n",
            "93/93 [==============================] - 5s 52ms/step - loss: 0.0161 - val_loss: 0.0144\n",
            "Epoch 10/45\n",
            "93/93 [==============================] - 5s 52ms/step - loss: 0.0160 - val_loss: 0.0144\n",
            "Epoch 11/45\n",
            "93/93 [==============================] - 5s 52ms/step - loss: 0.0160 - val_loss: 0.0144\n",
            "Epoch 12/45\n",
            "93/93 [==============================] - 5s 52ms/step - loss: 0.0160 - val_loss: 0.0144\n",
            "Epoch 13/45\n",
            "93/93 [==============================] - 5s 52ms/step - loss: 0.0159 - val_loss: 0.0144\n",
            "Epoch 14/45\n",
            "93/93 [==============================] - 5s 52ms/step - loss: 0.0160 - val_loss: 0.0144\n",
            "Epoch 15/45\n",
            "93/93 [==============================] - 5s 52ms/step - loss: 0.0160 - val_loss: 0.0144\n",
            "Epoch 16/45\n",
            "93/93 [==============================] - 5s 52ms/step - loss: 0.0160 - val_loss: 0.0144\n",
            "Epoch 17/45\n",
            "93/93 [==============================] - 5s 52ms/step - loss: 0.0160 - val_loss: 0.0144\n",
            "Epoch 18/45\n",
            "93/93 [==============================] - 5s 52ms/step - loss: 0.0160 - val_loss: 0.0144\n",
            "Epoch 19/45\n",
            "93/93 [==============================] - 5s 52ms/step - loss: 0.0160 - val_loss: 0.0144\n",
            "Epoch 20/45\n",
            "93/93 [==============================] - 5s 52ms/step - loss: 0.0160 - val_loss: 0.0144\n",
            "Epoch 21/45\n",
            "93/93 [==============================] - 5s 51ms/step - loss: 0.0160 - val_loss: 0.0144\n",
            "Epoch 22/45\n",
            "93/93 [==============================] - 5s 51ms/step - loss: 0.0161 - val_loss: 0.0144\n",
            "Epoch 23/45\n",
            "93/93 [==============================] - 5s 51ms/step - loss: 0.0161 - val_loss: 0.0144\n",
            "Epoch 24/45\n",
            "93/93 [==============================] - 5s 52ms/step - loss: 0.0160 - val_loss: 0.0144\n",
            "Epoch 25/45\n",
            "93/93 [==============================] - 5s 52ms/step - loss: 0.0159 - val_loss: 0.0144\n",
            "Epoch 26/45\n",
            "93/93 [==============================] - 5s 52ms/step - loss: 0.0160 - val_loss: 0.0144\n",
            "Epoch 27/45\n",
            "93/93 [==============================] - 5s 52ms/step - loss: 0.0160 - val_loss: 0.0144\n",
            "Epoch 28/45\n",
            "93/93 [==============================] - 5s 53ms/step - loss: 0.0160 - val_loss: 0.0144\n",
            "Epoch 29/45\n",
            "93/93 [==============================] - 5s 52ms/step - loss: 0.0161 - val_loss: 0.0144\n",
            "Epoch 30/45\n",
            "93/93 [==============================] - 5s 52ms/step - loss: 0.0160 - val_loss: 0.0144\n",
            "Epoch 31/45\n",
            "93/93 [==============================] - 5s 52ms/step - loss: 0.0160 - val_loss: 0.0144\n",
            "Epoch 32/45\n",
            "93/93 [==============================] - 5s 52ms/step - loss: 0.0160 - val_loss: 0.0144\n",
            "Epoch 33/45\n",
            "93/93 [==============================] - 5s 52ms/step - loss: 0.0160 - val_loss: 0.0144\n",
            "Epoch 34/45\n",
            "93/93 [==============================] - 5s 52ms/step - loss: 0.0161 - val_loss: 0.0144\n",
            "Epoch 35/45\n",
            "93/93 [==============================] - 5s 52ms/step - loss: 0.0160 - val_loss: 0.0144\n",
            "Epoch 36/45\n",
            "93/93 [==============================] - 5s 51ms/step - loss: 0.0160 - val_loss: 0.0144\n",
            "Epoch 37/45\n",
            "93/93 [==============================] - 5s 52ms/step - loss: 0.0160 - val_loss: 0.0144\n",
            "Epoch 38/45\n",
            "93/93 [==============================] - 5s 52ms/step - loss: 0.0161 - val_loss: 0.0144\n",
            "Epoch 39/45\n",
            "93/93 [==============================] - 5s 52ms/step - loss: 0.0160 - val_loss: 0.0144\n",
            "Epoch 40/45\n",
            "93/93 [==============================] - 5s 52ms/step - loss: 0.0159 - val_loss: 0.0144\n",
            "Epoch 41/45\n",
            "93/93 [==============================] - 5s 52ms/step - loss: 0.0159 - val_loss: 0.0144\n",
            "Epoch 42/45\n",
            "93/93 [==============================] - 5s 52ms/step - loss: 0.0160 - val_loss: 0.0144\n",
            "Epoch 43/45\n",
            "93/93 [==============================] - 5s 52ms/step - loss: 0.0160 - val_loss: 0.0144\n",
            "Epoch 44/45\n",
            "93/93 [==============================] - 5s 52ms/step - loss: 0.0160 - val_loss: 0.0144\n",
            "Epoch 45/45\n",
            "93/93 [==============================] - 5s 51ms/step - loss: 0.0160 - val_loss: 0.0144\n"
          ],
          "name": "stdout"
        }
      ]
    },
    {
      "cell_type": "code",
      "metadata": {
        "colab": {
          "base_uri": "https://localhost:8080/",
          "height": 231
        },
        "id": "WwUmSU7SbT3j",
        "outputId": "15d17243-3ead-4035-be31-3255b9e148a7"
      },
      "source": [
        "\n",
        "for i in range(3):\n",
        "    plt.imshow(do_threshold(pre_trained_y[i]), vmin=0., vmax=1.)\n",
        "    plt.show()\n",
        "    plt.imshow(do_threshold(trained_y[i]), vmin=0., vmax=1.)\n",
        "    plt.show()\n",
        "    plt.imshow(real_y[i], vmin=0., vmax=1.)\n",
        "    plt.show()\n",
        "    plt.imshow(x_test[i])\n",
        "    plt.show()"
      ],
      "execution_count": 1,
      "outputs": [
        {
          "output_type": "error",
          "ename": "NameError",
          "evalue": "ignored",
          "traceback": [
            "\u001b[0;31m---------------------------------------------------------------------------\u001b[0m",
            "\u001b[0;31mNameError\u001b[0m                                 Traceback (most recent call last)",
            "\u001b[0;32m<ipython-input-1-fe054e1ecdd8>\u001b[0m in \u001b[0;36m<module>\u001b[0;34m()\u001b[0m\n\u001b[1;32m      1\u001b[0m \u001b[0;34m\u001b[0m\u001b[0m\n\u001b[1;32m      2\u001b[0m \u001b[0;32mfor\u001b[0m \u001b[0mi\u001b[0m \u001b[0;32min\u001b[0m \u001b[0mrange\u001b[0m\u001b[0;34m(\u001b[0m\u001b[0;36m3\u001b[0m\u001b[0;34m)\u001b[0m\u001b[0;34m:\u001b[0m\u001b[0;34m\u001b[0m\u001b[0;34m\u001b[0m\u001b[0m\n\u001b[0;32m----> 3\u001b[0;31m     \u001b[0mplt\u001b[0m\u001b[0;34m.\u001b[0m\u001b[0mimshow\u001b[0m\u001b[0;34m(\u001b[0m\u001b[0mdo_threshold\u001b[0m\u001b[0;34m(\u001b[0m\u001b[0mpre_trained_y\u001b[0m\u001b[0;34m[\u001b[0m\u001b[0mi\u001b[0m\u001b[0;34m]\u001b[0m\u001b[0;34m)\u001b[0m\u001b[0;34m,\u001b[0m \u001b[0mvmin\u001b[0m\u001b[0;34m=\u001b[0m\u001b[0;36m0.\u001b[0m\u001b[0;34m,\u001b[0m \u001b[0mvmax\u001b[0m\u001b[0;34m=\u001b[0m\u001b[0;36m1.\u001b[0m\u001b[0;34m)\u001b[0m\u001b[0;34m\u001b[0m\u001b[0;34m\u001b[0m\u001b[0m\n\u001b[0m\u001b[1;32m      4\u001b[0m     \u001b[0mplt\u001b[0m\u001b[0;34m.\u001b[0m\u001b[0mshow\u001b[0m\u001b[0;34m(\u001b[0m\u001b[0;34m)\u001b[0m\u001b[0;34m\u001b[0m\u001b[0;34m\u001b[0m\u001b[0m\n\u001b[1;32m      5\u001b[0m     \u001b[0mplt\u001b[0m\u001b[0;34m.\u001b[0m\u001b[0mimshow\u001b[0m\u001b[0;34m(\u001b[0m\u001b[0mdo_threshold\u001b[0m\u001b[0;34m(\u001b[0m\u001b[0mtrained_y\u001b[0m\u001b[0;34m[\u001b[0m\u001b[0mi\u001b[0m\u001b[0;34m]\u001b[0m\u001b[0;34m)\u001b[0m\u001b[0;34m,\u001b[0m \u001b[0mvmin\u001b[0m\u001b[0;34m=\u001b[0m\u001b[0;36m0.\u001b[0m\u001b[0;34m,\u001b[0m \u001b[0mvmax\u001b[0m\u001b[0;34m=\u001b[0m\u001b[0;36m1.\u001b[0m\u001b[0;34m)\u001b[0m\u001b[0;34m\u001b[0m\u001b[0;34m\u001b[0m\u001b[0m\n",
            "\u001b[0;31mNameError\u001b[0m: name 'plt' is not defined"
          ]
        }
      ]
    },
    {
      "cell_type": "code",
      "metadata": {
        "id": "KWC4f6HcWIDi"
      },
      "source": [
        "threshold = 0.35"
      ],
      "execution_count": 10,
      "outputs": []
    },
    {
      "cell_type": "code",
      "metadata": {
        "id": "iA3eLO0EWA1m"
      },
      "source": [
        "import numpy as np\n",
        "def do_threshold(x):\n",
        "  if x > threshold:\n",
        "    return 1.0\n",
        "  else:\n",
        "    return 0.0\n",
        "\n",
        "do_threshold = np.vectorize(do_threshold)"
      ],
      "execution_count": 11,
      "outputs": []
    },
    {
      "cell_type": "markdown",
      "metadata": {
        "id": "zI1Qm3n4fr12"
      },
      "source": [
        "camera\n"
      ]
    },
    {
      "cell_type": "code",
      "metadata": {
        "id": "XT5SabLWftOB"
      },
      "source": [
        "from IPython.display import display, Javascript\n",
        "from google.colab.output import eval_js\n",
        "from base64 import b64decode\n",
        "\n",
        "def take_photo(filename='photo.jpg', quality=0.8):\n",
        "  js = Javascript('''\n",
        "    async function takePhoto(quality) {\n",
        "      const div = document.createElement('div');\n",
        "      const capture = document.createElement('button');\n",
        "      capture.textContent = 'Capture';\n",
        "      div.appendChild(capture);\n",
        "\n",
        "      const video = document.createElement('video');\n",
        "      video.style.display = 'block';\n",
        "      const stream = await navigator.mediaDevices.getUserMedia({video: true});\n",
        "\n",
        "      document.body.appendChild(div);\n",
        "      div.appendChild(video);\n",
        "      video.srcObject = stream;\n",
        "      await video.play();\n",
        "\n",
        "      // Resize the output to fit the video element.\n",
        "      google.colab.output.setIframeHeight(document.documentElement.scrollHeight, true);\n",
        "\n",
        "      // Wait for Capture to be clicked.\n",
        "      await new Promise((resolve) => capture.onclick = resolve);\n",
        "\n",
        "      const canvas = document.createElement('canvas');\n",
        "      canvas.width = video.videoWidth;\n",
        "      canvas.height = video.videoHeight;\n",
        "      canvas.getContext('2d').drawImage(video, 0, 0);\n",
        "      stream.getVideoTracks()[0].stop();\n",
        "      div.remove();\n",
        "      return canvas.toDataURL('image/jpeg', quality);\n",
        "    }\n",
        "    ''')\n",
        "  display(js)\n",
        "  data = eval_js('takePhoto({})'.format(quality))\n",
        "  binary = b64decode(data.split(',')[1])\n",
        "  with open(filename, 'wb') as f:\n",
        "    f.write(binary)\n",
        "  return filename"
      ],
      "execution_count": 17,
      "outputs": []
    },
    {
      "cell_type": "code",
      "metadata": {
        "colab": {
          "base_uri": "https://localhost:8080/",
          "height": 533
        },
        "id": "LDhDAGKeftOC",
        "outputId": "a553d112-d21f-4950-a3b1-a3940273102d"
      },
      "source": [
        "from IPython.display import Image\n",
        "import matplotlib.pyplot as plt\n",
        "import PIL.Image as pilimg\n",
        "\n",
        "try:\n",
        "  filename = take_photo()\n",
        "  print('Saved to {}'.format(filename))\n",
        "  img = pilimg.open(filename).resize((100, 100))\n",
        "  nd_img = np.array(img) / 255\n",
        "  result = net.predict(nd_img.reshape(1,100,100,3))\n",
        "  plt.imshow(np.insert(result, 2, 0, -1)[0])\n",
        "  plt.show()\n",
        "  plt.imshow(img)\n",
        "  plt.show()\n",
        "\n",
        "except Exception as err:\n",
        "  # Errors will be thrown if the user does not have a webcam or if they do not\n",
        "  # grant the page permission to access it.\n",
        "  print(str(err))"
      ],
      "execution_count": 23,
      "outputs": [
        {
          "output_type": "display_data",
          "data": {
            "application/javascript": [
              "\n",
              "    async function takePhoto(quality) {\n",
              "      const div = document.createElement('div');\n",
              "      const capture = document.createElement('button');\n",
              "      capture.textContent = 'Capture';\n",
              "      div.appendChild(capture);\n",
              "\n",
              "      const video = document.createElement('video');\n",
              "      video.style.display = 'block';\n",
              "      const stream = await navigator.mediaDevices.getUserMedia({video: true});\n",
              "\n",
              "      document.body.appendChild(div);\n",
              "      div.appendChild(video);\n",
              "      video.srcObject = stream;\n",
              "      await video.play();\n",
              "\n",
              "      // Resize the output to fit the video element.\n",
              "      google.colab.output.setIframeHeight(document.documentElement.scrollHeight, true);\n",
              "\n",
              "      // Wait for Capture to be clicked.\n",
              "      await new Promise((resolve) => capture.onclick = resolve);\n",
              "\n",
              "      const canvas = document.createElement('canvas');\n",
              "      canvas.width = video.videoWidth;\n",
              "      canvas.height = video.videoHeight;\n",
              "      canvas.getContext('2d').drawImage(video, 0, 0);\n",
              "      stream.getVideoTracks()[0].stop();\n",
              "      div.remove();\n",
              "      return canvas.toDataURL('image/jpeg', quality);\n",
              "    }\n",
              "    "
            ],
            "text/plain": [
              "<IPython.core.display.Javascript object>"
            ]
          },
          "metadata": {
            "tags": []
          }
        },
        {
          "output_type": "stream",
          "text": [
            "Saved to photo.jpg\n"
          ],
          "name": "stdout"
        },
        {
          "output_type": "display_data",
          "data": {
            "image/png": "[encoded data removed]",
            "text/plain": [
              "<Figure size 432x288 with 1 Axes>"
            ]
          },
          "metadata": {
            "tags": [],
            "needs_background": "light"
          }
        },
        {
          "output_type": "display_data",
          "data": {
            "image/png": "[encoded data removed]",
            "text/plain": [
              "<Figure size 432x288 with 1 Axes>"
            ]
          },
          "metadata": {
            "tags": [],
            "needs_background": "light"
          }
        }
      ]
    }
  ]
}